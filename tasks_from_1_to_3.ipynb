{
  "nbformat": 4,
  "nbformat_minor": 0,
  "metadata": {
    "colab": {
      "provenance": []
    },
    "kernelspec": {
      "name": "python3",
      "display_name": "Python 3"
    },
    "language_info": {
      "name": "python"
    }
  },
  "cells": [
    {
      "cell_type": "code",
      "execution_count": null,
      "metadata": {
        "id": "9S_kvvSfSt5J"
      },
      "outputs": [],
      "source": [
        "# Задание 1. FizzBuzz\n",
        "\n",
        "# ввести n\n",
        "# вывести числа от 1 до n,\n",
        "# при этом:\n",
        "# Если число делится на 3, вместо него надо сказать «Fizz».\n",
        "# Если число делится на 5, вместо него надо сказать «Buzz».\n",
        "# А если число делится одновременно на 3 и на 5, то надо вместо него сказать «FizzBuzz».\n",
        "\n",
        "# чтобы преобразовать строку в число, используем функцию int( )"
      ]
    },
    {
      "cell_type": "code",
      "source": [
        "# Решение\n",
        "\n",
        "# Вводим значение n\n",
        "n = int(input(\"Введите значение n: \"))\n",
        "\n",
        "# Цикл от 1 до n (включительно)\n",
        "for i in range(1, n + 1):\n",
        "    # Проверяем условия и выводим соответствующее сообщение\n",
        "    if i % 3 == 0 and i % 5 == 0:\n",
        "        print(\"FizzBuzz\")\n",
        "    elif i % 3 == 0:\n",
        "        print(\"Fizz\")\n",
        "    elif i % 5 == 0:\n",
        "        print(\"Buzz\")\n",
        "    else:\n",
        "        print(i)\n"
      ],
      "metadata": {
        "colab": {
          "base_uri": "https://localhost:8080/"
        },
        "id": "FrmXB7J1TDGS",
        "outputId": "8f2269c8-740c-4cfb-a51c-4e58cd22cc60"
      },
      "execution_count": 3,
      "outputs": [
        {
          "output_type": "stream",
          "name": "stdout",
          "text": [
            "Введите значение n: 15\n",
            "1\n",
            "2\n",
            "Fizz\n",
            "4\n",
            "Buzz\n",
            "Fizz\n",
            "7\n",
            "8\n",
            "Fizz\n",
            "Buzz\n",
            "11\n",
            "Fizz\n",
            "13\n",
            "14\n",
            "FizzBuzz\n"
          ]
        }
      ]
    },
    {
      "cell_type": "code",
      "source": [
        "# Задание 2\n",
        "# Определить корни квадратного уравнения\n",
        "# Коэффициенты ввести с клавиатуры"
      ],
      "metadata": {
        "id": "WRTNRueNTj-P"
      },
      "execution_count": null,
      "outputs": []
    },
    {
      "cell_type": "code",
      "source": [
        "print(\"Введите коэффициенты для квадратного уравнения\")\n",
        "a = float(input(\"a = \"))\n",
        "b = float(input(\"b = \"))\n",
        "c = float(input(\"c = \"))\n",
        "\n",
        "discr = b**2 - 4 * a * c;\n",
        "print(\"Дискриминант D = %.2f\" % discr)\n",
        "if discr > 0:\n",
        "    import math\n",
        "    x1 = (-b + math.sqrt(discr)) / (2 * a)\n",
        "    x2 = (-b - math.sqrt(discr)) / (2 * a)\n",
        "    print(\"x1 = %.2f \\nx2 = %.2f\" % (x1, x2))\n",
        "elif discr == 0:\n",
        "    x = -b / (2 * a)\n",
        "    print(\"x = %.2f\" % x)\n",
        "else:\n",
        "    print(\"Корней нет\")\n"
      ],
      "metadata": {
        "colab": {
          "base_uri": "https://localhost:8080/"
        },
        "id": "ni0QYqDpTxA1",
        "outputId": "113497d7-4ba3-4253-9cd8-4cfa289dd11c"
      },
      "execution_count": 6,
      "outputs": [
        {
          "output_type": "stream",
          "name": "stdout",
          "text": [
            "Введите коэффициенты для квадратного уравнения\n",
            "a = 3\n",
            "b = 7\n",
            "c = -6\n",
            "Дискриминант D = 121.00\n",
            "x1 = 0.67 \n",
            "x2 = -3.00\n"
          ]
        }
      ]
    },
    {
      "cell_type": "code",
      "source": [
        "# Задача 3\n",
        "# Ввести 3 числа. Проверить, может ли быть построен треугольник со сторонами такой длины"
      ],
      "metadata": {
        "id": "HPrPP0v_VIzC"
      },
      "execution_count": null,
      "outputs": []
    },
    {
      "cell_type": "code",
      "source": [
        "# Вводим длины сторон\n",
        "a = float(input(\"Введите длину стороны a: \"))\n",
        "b = float(input(\"Введите длину стороны b: \"))\n",
        "c = float(input(\"Введите длину стороны c: \"))\n",
        "\n",
        "# Проверяем условие треугольника\n",
        "if a + b > c and a + c > b and b + c > a:\n",
        "    print(\"Треугольник с такими сторонами может быть построен.\")\n",
        "else:\n",
        "    print(\"Треугольник с такими сторонами не может быть построен.\")\n"
      ],
      "metadata": {
        "colab": {
          "base_uri": "https://localhost:8080/"
        },
        "id": "UCivpiFUVOPf",
        "outputId": "c7e59ed7-8609-46a9-f428-a53de61883ef"
      },
      "execution_count": 7,
      "outputs": [
        {
          "output_type": "stream",
          "name": "stdout",
          "text": [
            "Введите длину стороны a: 3\n",
            "Введите длину стороны b: 6\n",
            "Введите длину стороны c: 7\n",
            "Треугольник с такими сторонами может быть построен.\n"
          ]
        }
      ]
    }
  ]
}