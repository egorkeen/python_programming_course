{
  "nbformat": 4,
  "nbformat_minor": 0,
  "metadata": {
    "colab": {
      "provenance": []
    },
    "kernelspec": {
      "name": "python3",
      "display_name": "Python 3"
    },
    "language_info": {
      "name": "python"
    }
  },
  "cells": [
    {
      "cell_type": "code",
      "execution_count": 1,
      "metadata": {
        "colab": {
          "base_uri": "https://localhost:8080/"
        },
        "id": "l4-_LdSIgCEF",
        "outputId": "4cd80412-f686-4e34-e6f2-7d6e6b5db64e"
      },
      "outputs": [
        {
          "output_type": "stream",
          "name": "stdout",
          "text": [
            "{'Ростов': 'РФ', 'Москва': 'РФ', 'СПб': 'РФ', 'Рим': 'Италия', 'Милан': 'Италия'}\n"
          ]
        }
      ],
      "source": [
        "# 24\n",
        "# Имеется словарь, ключ – страна, значение – список городов.\n",
        "countries = {'РФ': ['Ростов', 'Москва', 'СПб'],\n",
        "             'Италия': ['Рим', 'Милан']}\n",
        "\n",
        "# Сформировать на его основе словарь с ключем – городом и значением – страной.\n",
        "# cities = {'Ростов':'РФ', 'СПб':'РФ','Рим':'Италия' ...}\n",
        "\n",
        "\n",
        "cities = {}\n",
        "\n",
        "for country, city_list in countries.items():\n",
        "    for city in city_list:\n",
        "        cities[city] = country\n",
        "\n",
        "print(cities)"
      ]
    },
    {
      "cell_type": "code",
      "source": [
        "# 25\n",
        "# Даны результаты матчей в виде словаря.\n",
        "# Ключ - кортеж из названий команд\n",
        "# Значение - кортеж из числа забитых этими командами голов\n",
        "# ('Динамо', 'Ростов'): (1, 3)   значит, что Динамо сыграло с Ростовом\n",
        "# и Динамо забило 1 мяч, Ростов - 3 мяча. Ростов победил\n",
        "\n",
        "results = {('Динамо', 'Ростов'): (1, 3),\n",
        "           ('Динамо', 'Спартак'): (2, 1),\n",
        "           ('Ростов', 'Динамо'): (3, 3),\n",
        "           ('Ростов', 'Спартак'): (0, 0),\n",
        "           ('Спартак', 'Динамо'): (1, 1),\n",
        "           ('Спартак', 'Ростов'): (1, 4)}\n",
        "\n",
        "# найти итог чемпионата\n",
        "# если за победу победитель получает 3 очка, за ничью даем 1 очко обеим командам\n",
        "\n",
        "standings = {}\n",
        "\n",
        "for match, score in results.items():\n",
        "    team1, team2 = match\n",
        "    goals_team1, goals_team2 = score\n",
        "\n",
        "    if goals_team1 > goals_team2:\n",
        "        standings[team1] = standings.get(team1, 0) + 3\n",
        "    elif goals_team1 < goals_team2:\n",
        "        standings[team2] = standings.get(team2, 0) + 3\n",
        "    else:\n",
        "        standings[team1] = standings.get(team1, 0) + 1\n",
        "        standings[team2] = standings.get(team2, 0) + 1\n",
        "\n",
        "print(\"Итог чемпионата:\")\n",
        "for team, points in standings.items():\n",
        "    print(f\"{team}: количество очков = {points}\")\n"
      ],
      "metadata": {
        "colab": {
          "base_uri": "https://localhost:8080/"
        },
        "id": "L92IAcoTgYZr",
        "outputId": "24981e65-8280-4db9-c580-a0d5b18655a4"
      },
      "execution_count": 4,
      "outputs": [
        {
          "output_type": "stream",
          "name": "stdout",
          "text": [
            "Итог чемпионата:\n",
            "Ростов: количество очков = 8\n",
            "Динамо: количество очков = 5\n",
            "Спартак: количество очков = 2\n"
          ]
        }
      ]
    },
    {
      "cell_type": "code",
      "source": [
        "# 26\n",
        "# Разработать функцию, которая выведет на печать все различия в двух переданных ей словарях\n",
        "# Различия могут касаться как состава ключей, так и их значений\n",
        "\n",
        "def find_differences(dict1, dict2):\n",
        "    # Находим различия по ключам\n",
        "    key_diff = set(dict1.keys()) ^ set(dict2.keys())\n",
        "\n",
        "    # Находим различия по значениям для общих ключей\n",
        "    value_diff = {key: (dict1[key], dict2[key]) for key in dict1.keys() & dict2.keys() if dict1[key] != dict2[key]}\n",
        "\n",
        "    print(\"Различия по ключам:\", key_diff)\n",
        "    print(\"Различия по значениям:\", value_diff)\n",
        "\n",
        "# Пример использования\n",
        "dict1 = {'a': 1, 'b': 2, 'c': 3}\n",
        "dict2 = {'a': 1, 'b': 5, 'd': 4}\n",
        "\n",
        "find_differences(dict1, dict2)\n"
      ],
      "metadata": {
        "colab": {
          "base_uri": "https://localhost:8080/"
        },
        "id": "0g2QI7gbgwaC",
        "outputId": "137152c9-e8c4-467d-953b-ba55dcff655b"
      },
      "execution_count": 5,
      "outputs": [
        {
          "output_type": "stream",
          "name": "stdout",
          "text": [
            "Различия по ключам: {'d', 'c'}\n",
            "Различия по значениям: {'b': (2, 5)}\n"
          ]
        }
      ]
    },
    {
      "cell_type": "code",
      "source": [
        "# 27\n",
        "# производная -\n",
        "# это предел отношения приращения функции к приращению аргумента\n",
        "# когда последний стремится к 0\n",
        "\n",
        "# delta = 0.001\n",
        "# (f(x + delta) - f(x)) / delta\n",
        "\n",
        "# разработать функцию diff, которая примет функцию одного аргумента\n",
        "# и вернет ее функцию-производную\n",
        "def diff(f, delta=0.001):\n",
        "    def derivative(x):\n",
        "        return (f(x + delta) - f(x)) / delta\n",
        "    return derivative\n",
        "\n",
        "# Пример использования\n",
        "f_shtrih = diff(lambda x: x ** 2)\n",
        "result = f_shtrih(5)\n",
        "print(result)\n"
      ],
      "metadata": {
        "colab": {
          "base_uri": "https://localhost:8080/"
        },
        "id": "aVXoo7F6g8L2",
        "outputId": "2e890cd6-9ba0-4ce9-9d32-6c37092bbf83"
      },
      "execution_count": 6,
      "outputs": [
        {
          "output_type": "stream",
          "name": "stdout",
          "text": [
            "10.001000000002591\n"
          ]
        }
      ]
    },
    {
      "cell_type": "code",
      "source": [
        "# 28\n",
        "# разработать декоратор, который добавит к строке, возвращаемой функцией заданный копирайт\n",
        "\n",
        "def copyrite(author):\n",
        "    def decorator(func):\n",
        "        def wrapper(*args, **kwargs):\n",
        "            result = func(*args, **kwargs)\n",
        "            copyright_line = f\"(c) {author}\"\n",
        "            return f\"{result}\\n{copyright_line}\"\n",
        "        return wrapper\n",
        "    return decorator\n",
        "\n",
        "# Пример использования\n",
        "@copyrite('Иванов И.И.')\n",
        "def some_func():\n",
        "    return \"Здесь должен быть умный текст\"\n",
        "\n",
        "result = some_func()\n",
        "print(result)\n"
      ],
      "metadata": {
        "colab": {
          "base_uri": "https://localhost:8080/"
        },
        "id": "s6iO32lthL7F",
        "outputId": "9c375b41-f8fa-454b-ab0c-dc4836faa0ac"
      },
      "execution_count": 8,
      "outputs": [
        {
          "output_type": "stream",
          "name": "stdout",
          "text": [
            "Здесь должен быть умный текст\n",
            "(c) Иванов И.И.\n"
          ]
        }
      ]
    },
    {
      "cell_type": "code",
      "source": [
        "# 29\n",
        "# Студент Вася узнал, что его предками были древние халдеи — жители Вавилона\n",
        "# Вдохновившись их научными достижениями, Вася решил писать текст без гласных букв, как это делели в древности\n",
        "# Помогите Васе сформировать сообщение, выкинув из него все гласные буквы русского языка\n",
        "\n",
        "# ввести текст\n",
        "# удалить из строки все гласные буквы\n",
        "\n",
        "def remove_vowels(text):\n",
        "    vowels = \"аеёиоуыэюяaeiouy\"\n",
        "    result = ''.join(char for char in text if char.lower() not in vowels)\n",
        "    return result\n",
        "\n",
        "# Ввод текста\n",
        "text = input(\"Введите текст: \")\n",
        "\n",
        "# Удаление гласных букв\n",
        "result = remove_vowels(text)\n",
        "\n",
        "print(\"Текст без гласных букв:\", result)\n"
      ],
      "metadata": {
        "colab": {
          "base_uri": "https://localhost:8080/"
        },
        "id": "7HU-SSPBhVJV",
        "outputId": "6824dd4f-af0c-43a8-a7a7-ea5c609fa95f"
      },
      "execution_count": 9,
      "outputs": [
        {
          "output_type": "stream",
          "name": "stdout",
          "text": [
            "Введите текст: Здесь был текст, но потом он потерял гласные и стал чем-то пустым\n",
            "Текст без гласных букв: Здсь бл ткст, н птм н птрл глсн  стл чм-т пстм\n"
          ]
        }
      ]
    },
    {
      "cell_type": "code",
      "source": [
        "# 30\n",
        "# Ввести два текста\n",
        "# Проверить, является ли второй текст анаграммой первого\n",
        "# анаграмма = преобразования текста путем перемешивания его букв\n",
        "# silent анаграмма  listen\n",
        "\n",
        "def are_anagrams(text1, text2):\n",
        "    # Преобразование текстов в нижний регистр и удаление пробелов\n",
        "    text1 = text1.lower().replace(\" \", \"\")\n",
        "    text2 = text2.lower().replace(\" \", \"\")\n",
        "\n",
        "    # Сортировка букв в текстах\n",
        "    sorted_text1 = sorted(text1)\n",
        "    sorted_text2 = sorted(text2)\n",
        "\n",
        "    # Проверка на анаграмму\n",
        "    return sorted_text1 == sorted_text2\n",
        "\n",
        "# Ввод текстов\n",
        "text1 = input(\"Введите первый текст: \")\n",
        "text2 = input(\"Введите второй текст: \")\n",
        "\n",
        "# Проверка на анаграмму\n",
        "if are_anagrams(text1, text2):\n",
        "    print(\"Второй текст - анаграмма первого.\")\n",
        "else:\n",
        "    print(\"Второй текст не является анаграммой первого.\")"
      ],
      "metadata": {
        "colab": {
          "base_uri": "https://localhost:8080/"
        },
        "id": "mdQumi5Whjbz",
        "outputId": "bc65bdc9-d95b-4bfe-bb7a-446cef544042"
      },
      "execution_count": 10,
      "outputs": [
        {
          "output_type": "stream",
          "name": "stdout",
          "text": [
            "Введите первый текст: silent\n",
            "Введите второй текст: listen\n",
            "Второй текст - анаграмма первого.\n"
          ]
        }
      ]
    },
    {
      "cell_type": "code",
      "source": [
        "# 31\n",
        "# Дан прямоугольных объектов с указанием названия и длин сторон\n",
        "# Остортировать по убыванию площади\n",
        "\n",
        "# Список прямоугольных объектов\n",
        "rectangles = [('Объект1', 5, 10),\n",
        "              ('Объект2', 7, 10),\n",
        "              ('Объект3', 3, 4)]\n",
        "\n",
        "# Функция для вычисления площади прямоугольника\n",
        "def calculate_area(rectangle):\n",
        "    return rectangle[1] * rectangle[2]\n",
        "\n",
        "# Сортировка по убыванию площади\n",
        "sorted_rectangles = sorted(rectangles, key=calculate_area, reverse=True)\n",
        "\n",
        "# Вывод отсортированного списка\n",
        "print(\"Прямоугольные объекты, отсортированные по убыванию площади:\")\n",
        "for rectangle in sorted_rectangles:\n",
        "    print(rectangle)\n"
      ],
      "metadata": {
        "colab": {
          "base_uri": "https://localhost:8080/"
        },
        "id": "ZweZDi0qhzb-",
        "outputId": "23d9450e-77a4-400c-f323-ce257f903a29"
      },
      "execution_count": 11,
      "outputs": [
        {
          "output_type": "stream",
          "name": "stdout",
          "text": [
            "Прямоугольные объекты, отсортированные по убыванию площади:\n",
            "('Объект2', 7, 10)\n",
            "('Объект1', 5, 10)\n",
            "('Объект3', 3, 4)\n"
          ]
        }
      ]
    },
    {
      "cell_type": "code",
      "source": [
        "# 32\n",
        "# Решить задачу обратную задаче 24\n",
        "# дан словарь городов и их стран, собрать словарь, где ключ - страна, значение - список ее городов\n",
        "# Имеется словарь, ключ – страна, значение – список городов.\n",
        "cities = {'Ростов': 'РФ', 'СПб': 'РФ', 'Москва': 'РФ', 'Рим': 'Италия', 'Милан': 'Италия'}\n",
        "# получить:\n",
        "# {'РФ':['Ростов', 'Москва', 'СПб'], 'Италия':['Рим', 'Милан']}\n",
        "\n",
        "# Создание обратного словаря\n",
        "countries_dict = {}\n",
        "for city, country in cities.items():\n",
        "    if country not in countries_dict:\n",
        "        countries_dict[country] = [city]\n",
        "    else:\n",
        "        countries_dict[country].append(city)\n",
        "\n",
        "print(countries_dict)\n"
      ],
      "metadata": {
        "colab": {
          "base_uri": "https://localhost:8080/"
        },
        "id": "N75deK0rh-8m",
        "outputId": "84189000-4e37-42fc-eb7c-292bd98503ef"
      },
      "execution_count": 12,
      "outputs": [
        {
          "output_type": "stream",
          "name": "stdout",
          "text": [
            "{'РФ': ['Ростов', 'СПб', 'Москва'], 'Италия': ['Рим', 'Милан']}\n"
          ]
        }
      ]
    },
    {
      "cell_type": "code",
      "source": [
        "# 33\n",
        "# Ввести с клавиатуры список чисел\n",
        "# Ввести число, и выполнить циклический сдвиг списка влево на это число\n",
        "# [1, 2, 3, 4, 5]\n",
        "# 3\n",
        "# [4, 5, 1, 2, 3]\n",
        "\n",
        "# Ввод списка чисел\n",
        "numbers = [int(x) for x in input(\"Введите список чисел через пробел: \").split()]\n",
        "\n",
        "# Ввод числа для циклического сдвига\n",
        "shift = int(input(\"Введите число для циклического сдвига: \"))\n",
        "\n",
        "# Циклический сдвиг влево\n",
        "shifted_numbers = numbers[shift % len(numbers):] + numbers[:shift % len(numbers)]\n",
        "\n",
        "# Вывод результата\n",
        "print(\"Циклический сдвиг влево:\", shifted_numbers)\n"
      ],
      "metadata": {
        "colab": {
          "base_uri": "https://localhost:8080/"
        },
        "id": "crztOjEwiHGU",
        "outputId": "0bd15d30-2400-4420-fa21-89a2b7dda8a4"
      },
      "execution_count": 13,
      "outputs": [
        {
          "output_type": "stream",
          "name": "stdout",
          "text": [
            "Введите список чисел через пробел: 1 2 3 4 5\n",
            "Введите число для циклического сдвига: 3\n",
            "Циклический сдвиг влево: [4, 5, 1, 2, 3]\n"
          ]
        }
      ]
    }
  ]
}