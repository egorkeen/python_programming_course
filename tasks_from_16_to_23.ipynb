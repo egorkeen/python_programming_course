{
  "nbformat": 4,
  "nbformat_minor": 0,
  "metadata": {
    "colab": {
      "provenance": []
    },
    "kernelspec": {
      "name": "python3",
      "display_name": "Python 3"
    },
    "language_info": {
      "name": "python"
    }
  },
  "cells": [
    {
      "cell_type": "code",
      "execution_count": 1,
      "metadata": {
        "id": "CsS2kzJnaCRG",
        "colab": {
          "base_uri": "https://localhost:8080/"
        },
        "outputId": "9220cd63-08b1-4071-872d-69eb71235fd0"
      },
      "outputs": [
        {
          "output_type": "stream",
          "name": "stdout",
          "text": [
            "Введите начало первого отрезка: 5\n",
            "Введите конец первого отрезка: 10\n",
            "Введите начало второго отрезка: 8\n",
            "Введите конец второго отрезка: 12\n",
            "Отрезки пересекаются.\n"
          ]
        }
      ],
      "source": [
        "# Задача 16\n",
        "# решить задачу 15 с помощью объекта range и множеств, предполагая, что концы отрезков - целые числа\n",
        "\n",
        "# ввести начала и окончания двух отрезков на числовой прямой (ЦЕЛЫЕ ЧИСЛА)\n",
        "# установить, пересекаются ли эти отрезки\n",
        "# начало и конец отрезка принаддлежат этим отрезкам\n",
        "# касание отрезков тоже считается пересечением\n",
        "\n",
        "# Введите начало первого отрезка 5\n",
        "# Введите конец первого отрезка 10\n",
        "# Введите начало второго отрезка 8\n",
        "# Введите конец второго отрезка 12\n",
        "# Отрезки пересекаются\n",
        "\n",
        "# Вводим начало и конец первого отрезка (ЦЕЛЫЕ ЧИСЛА)\n",
        "start1 = int(input(\"Введите начало первого отрезка: \"))\n",
        "end1 = int(input(\"Введите конец первого отрезка: \"))\n",
        "\n",
        "# Вводим начало и конец второго отрезка (ЦЕЛЫЕ ЧИСЛА)\n",
        "start2 = int(input(\"Введите начало второго отрезка: \"))\n",
        "end2 = int(input(\"Введите конец второго отрезка: \"))\n",
        "\n",
        "# Создаем объекты range для представления отрезков\n",
        "range1 = set(range(start1, end1 + 1))\n",
        "range2 = set(range(start2, end2 + 1))\n",
        "\n",
        "# Проверяем, пересекаются ли отрезки\n",
        "if range1.isdisjoint(range2):\n",
        "    print(\"Отрезки не пересекаются.\")\n",
        "else:\n",
        "    print(\"Отрезки пересекаются.\")"
      ]
    },
    {
      "cell_type": "code",
      "source": [
        "# Задача 17\n",
        "# Дано множество работников\n",
        "workers = {'Вася', 'Коля', 'Маша', 'Вера'}\n",
        "\n",
        "# И подмножества\n",
        "fast_workers = {'Коля', 'Маша'} # работают быстро\n",
        "quality_workers = {'Маша', 'Вера'} # работают качественно\n",
        "cheap_workers = {'Коля',  'Вера'} # работают бюджетно\n",
        "\n",
        "# Кто работает быстро, хорошо и дешево?\n",
        "fast_good_cheap_workers = fast_workers & quality_workers & cheap_workers\n",
        "print(\"Работники, работающие быстро, хорошо и дешево:\", ', '.join(fast_good_cheap_workers) if fast_good_cheap_workers else \"Нет таких работников\")\n",
        "\n",
        "# Кто работает криво, медленно и дорого?\n",
        "slow_bad_expensive_workers = workers - (fast_workers | quality_workers | cheap_workers)\n",
        "print(\"Работники, работающие криво, медленно и дорого:\", ', '.join(slow_bad_expensive_workers) if slow_bad_expensive_workers else \"Нет таких работников\")\n",
        "\n"
      ],
      "metadata": {
        "colab": {
          "base_uri": "https://localhost:8080/"
        },
        "id": "8j8mGbs5bDBA",
        "outputId": "1396dd39-2506-4f4c-f73f-25a3a9a48d74"
      },
      "execution_count": 4,
      "outputs": [
        {
          "output_type": "stream",
          "name": "stdout",
          "text": [
            "Работники, работающие быстро, хорошо и дешево: Нет таких работников\n",
            "Работники, работающие криво, медленно и дорого: Вася\n"
          ]
        }
      ]
    },
    {
      "cell_type": "code",
      "source": [
        "# Задача 18 Пользователь вводит партии груза по схеме: количество (+ приход, -расход), и в случае прихода стоимость партии\n",
        "# изначально склад пуст\n",
        "# после каждой операции нужно вывести количественный и стоимостной остаток на складе\n",
        "# при условии, что первым забирается товар, пришедший последним (схема LIFO)\n",
        "# при вводе пустой строки завершить работу\n",
        "\n",
        "class Warehouse:\n",
        "    def __init__(self):\n",
        "        self.quantity = 0\n",
        "        self.cost = 0\n",
        "\n",
        "    def process_transaction(self, transaction):\n",
        "        parts = transaction.split()\n",
        "        if len(parts) == 1:\n",
        "            quantity_change = int(parts[0])\n",
        "            cost_change = 0\n",
        "        elif len(parts) == 2:\n",
        "            quantity_change, cost_change = map(int, parts)\n",
        "        else:\n",
        "            print(\"Некорректный формат транзакции.\")\n",
        "            return\n",
        "\n",
        "        self.quantity += quantity_change\n",
        "        if quantity_change > 0:\n",
        "            self.cost += quantity_change * cost_change\n",
        "\n",
        "    def display_state(self):\n",
        "        print(f\"{self.quantity} {self.cost}\")\n",
        "\n",
        "\n",
        "def main():\n",
        "    warehouse = Warehouse()\n",
        "\n",
        "    while True:\n",
        "        transaction = input(\"> \")\n",
        "        if not transaction:\n",
        "            break\n",
        "\n",
        "        warehouse.process_transaction(transaction)\n",
        "        warehouse.display_state()\n",
        "\n",
        "\n",
        "if __name__ == \"__main__\":\n",
        "    main()\n"
      ],
      "metadata": {
        "colab": {
          "base_uri": "https://localhost:8080/"
        },
        "id": "RSK-UplQbye8",
        "outputId": "33fb12a3-da53-434c-b7d2-c61ac8a3382a"
      },
      "execution_count": 2,
      "outputs": [
        {
          "name": "stdout",
          "output_type": "stream",
          "text": [
            "> 10 1000\n",
            "10 10000\n",
            "> 3 600\n",
            "13 11800\n",
            "> 3 450\n",
            "16 13150\n",
            "> \n"
          ]
        }
      ]
    },
    {
      "cell_type": "code",
      "source": [
        "# Задача 19 Дан список со вложенными списками\n",
        "# необходимо разработать функцию для превращения его в плоский вид\n",
        "l = [1, 2, [3, 4, [5, 6], 7], 8, [9, 10]]\n",
        "#  [1, 2, 3, 4, 5, 6, 7, 8, 9, 10]\n",
        "\n",
        "def flatten_list(lst):\n",
        "    flat_list = []\n",
        "    for item in lst:\n",
        "        if isinstance(item, list):\n",
        "            flat_list.extend(flatten_list(item))\n",
        "        else:\n",
        "            flat_list.append(item)\n",
        "    return flat_list\n",
        "\n",
        "# Пример использования\n",
        "flat_result = flatten_list(l)\n",
        "print(flat_result)\n"
      ],
      "metadata": {
        "colab": {
          "base_uri": "https://localhost:8080/"
        },
        "id": "iFIVKhnYed7m",
        "outputId": "90ba0d9d-5773-4c06-e27e-9bfb6492f395"
      },
      "execution_count": 3,
      "outputs": [
        {
          "output_type": "stream",
          "name": "stdout",
          "text": [
            "[1, 2, 3, 4, 5, 6, 7, 8, 9, 10]\n"
          ]
        }
      ]
    },
    {
      "cell_type": "code",
      "source": [
        "#Задача 20\n",
        "\n",
        "# Разработать функцию для численного интегрирования функцию методом прямоугольников\n",
        "# использовать шаг delta=0.001\n",
        "# напоминаем. Интеграл можно приближенно считать как сумму площадей прямоугольников шириной delta\n",
        "# и высотой равной значению функции в данной точке\n",
        "# s += f(a+i*delta)*delta\n",
        "\n",
        "# для контроля -  интеграл 3x^2 на участке от 1 до 3 равен 28\n",
        "\n",
        "def integrate(f, a, b, delta=0.001):\n",
        "    integral_sum = 0\n",
        "    current_point = a\n",
        "\n",
        "    while current_point < b:\n",
        "        integral_sum += f(current_point) * delta\n",
        "        current_point += delta\n",
        "\n",
        "    return integral_sum\n",
        "\n",
        "# Пример использования\n",
        "def example_function(x):\n",
        "    return 3 * x**2\n",
        "\n",
        "result = integrate(example_function, 1, 3)\n",
        "print(result)\n"
      ],
      "metadata": {
        "colab": {
          "base_uri": "https://localhost:8080/"
        },
        "id": "inBcBcoQevEX",
        "outputId": "d3eec5dd-3ebf-4638-b1c3-d8e8f42146ad"
      },
      "execution_count": 4,
      "outputs": [
        {
          "output_type": "stream",
          "name": "stdout",
          "text": [
            "26.015000999996907\n"
          ]
        }
      ]
    },
    {
      "cell_type": "code",
      "source": [
        "#Задача 21\n",
        "# дан список кортежей с числом проголосовавших за каждую песню на конкурсе самодеятельсноти\n",
        "# Вывести трех победителей\n",
        "\n",
        "votes = [('31 - ая весна', 100),\n",
        "         ('Цунами', 28),\n",
        "         ('Привет, ромашки', 79),\n",
        "         ('Лондон', 121),\n",
        "         ('Осень', 79)]\n",
        "\n",
        "# Сортируем список по убыванию числа голосов\n",
        "sorted_votes = sorted(votes, key=lambda x: x[1], reverse=True)\n",
        "\n",
        "# Выводим трех победителей\n",
        "print(\"Трое победителей:\")\n",
        "for i in range(3):\n",
        "    print(f\"{i + 1}. {sorted_votes[i][0]} - {sorted_votes[i][1]} голосов\")\n"
      ],
      "metadata": {
        "colab": {
          "base_uri": "https://localhost:8080/"
        },
        "id": "ii9L0XsLe8Gf",
        "outputId": "4176069d-8196-46dd-b055-1c2076313e07"
      },
      "execution_count": 5,
      "outputs": [
        {
          "output_type": "stream",
          "name": "stdout",
          "text": [
            "Трое победителей:\n",
            "1. Лондон - 121 голосов\n",
            "2. 31 - ая весна - 100 голосов\n",
            "3. Привет, ромашки - 79 голосов\n"
          ]
        }
      ]
    },
    {
      "cell_type": "code",
      "source": [
        "#Задача 22\n",
        "# Дан список пациентов. Поделить его поровну на контрольную и экспериментальную группы случайным образом\n",
        "# нужно посмотреть возможности  модуля random\n",
        "\n",
        "import random\n",
        "\n",
        "pacients = ['Петя', 'Коля', 'Дима', 'Вася', 'Игорь', 'Миша']\n",
        "\n",
        "# Перемешиваем список случайным образом\n",
        "random.shuffle(pacients)\n",
        "\n",
        "# Определяем размер контрольной группы (половина от общего числа пациентов)\n",
        "control_group_size = len(pacients) // 2\n",
        "\n",
        "# Разделяем список на контрольную и экспериментальную группы\n",
        "control_group = pacients[:control_group_size]\n",
        "experimental_group = pacients[control_group_size:]\n",
        "\n",
        "# Выводим результат\n",
        "print(\"Контрольная группа:\", control_group)\n",
        "print(\"Экспериментальная группа:\", experimental_group)"
      ],
      "metadata": {
        "colab": {
          "base_uri": "https://localhost:8080/"
        },
        "id": "TAna9B9FfH8g",
        "outputId": "72de8f5a-0176-4654-f077-848a7828cfa0"
      },
      "execution_count": 7,
      "outputs": [
        {
          "output_type": "stream",
          "name": "stdout",
          "text": [
            "Контрольная группа: ['Коля', 'Игорь', 'Петя']\n",
            "Экспериментальная группа: ['Дима', 'Вася', 'Миша']\n"
          ]
        }
      ]
    },
    {
      "cell_type": "code",
      "source": [
        "# Задача 23\n",
        "# СБЕР\n",
        "# В этом задании вам предстоит раскрасить шахматную доску размера nхn в черный и белый цвета.\n",
        "# Элемент с индексом [0][0] раскрасьте в белый цвет, а далее в шахматном порядке.\n",
        "# Для обозначения черного цвета используйте символ \"b\", для обозначения белого цвета — символ \"w\".\n",
        "# размер доски n ввести с клавиатуры\n",
        "\n",
        "def paint_chessboard(n):\n",
        "    chessboard = [['b' if (i + j) % 2 == 0 else 'w' for j in range(n)] for i in range(n)]\n",
        "    return chessboard\n",
        "\n",
        "def display_chessboard(chessboard):\n",
        "    for row in chessboard:\n",
        "        print(' '.join(row))\n",
        "\n",
        "# Ввод размера доски с клавиатуры\n",
        "n = int(input(\"Введите размер доски (n): \"))\n",
        "\n",
        "# Получение и отображение шахматной доски\n",
        "chessboard = paint_chessboard(n)\n",
        "display_chessboard(chessboard)\n"
      ],
      "metadata": {
        "colab": {
          "base_uri": "https://localhost:8080/"
        },
        "id": "vf3OnNYKfV45",
        "outputId": "bb1a3e36-6c28-477e-ede8-8200604d23fc"
      },
      "execution_count": 8,
      "outputs": [
        {
          "output_type": "stream",
          "name": "stdout",
          "text": [
            "Введите размер доски (n): 10\n",
            "b w b w b w b w b w\n",
            "w b w b w b w b w b\n",
            "b w b w b w b w b w\n",
            "w b w b w b w b w b\n",
            "b w b w b w b w b w\n",
            "w b w b w b w b w b\n",
            "b w b w b w b w b w\n",
            "w b w b w b w b w b\n",
            "b w b w b w b w b w\n",
            "w b w b w b w b w b\n"
          ]
        }
      ]
    },
    {
      "cell_type": "code",
      "source": [],
      "metadata": {
        "id": "xIG9LNyefheY"
      },
      "execution_count": null,
      "outputs": []
    }
  ]
}