{
  "nbformat": 4,
  "nbformat_minor": 0,
  "metadata": {
    "colab": {
      "provenance": []
    },
    "kernelspec": {
      "name": "python3",
      "display_name": "Python 3"
    },
    "language_info": {
      "name": "python"
    }
  },
  "cells": [
    {
      "cell_type": "code",
      "execution_count": 1,
      "metadata": {
        "colab": {
          "base_uri": "https://localhost:8080/"
        },
        "id": "BApDR69IV06u",
        "outputId": "d268060e-5193-4ffb-aeaa-dee622a6a4d0"
      },
      "outputs": [
        {
          "output_type": "stream",
          "name": "stdout",
          "text": [
            "Сумма положительных элементов в матрице: 28\n"
          ]
        }
      ],
      "source": [
        "# Задание 4\n",
        "\n",
        "# Найти сумму положительных элементов в матрице 4 на 4, представленной вложенными списками\n",
        "\n",
        "l = [[1, 2, 3, -1],\n",
        "     [5, 4, 4, 6],\n",
        "     [1, -3, 2, -3]]\n",
        "\n",
        "\n",
        "# Решение. Находим сумму положительных элементов\n",
        "sum_positive = 0\n",
        "\n",
        "for row in l:\n",
        "    for element in row:\n",
        "        if element > 0:\n",
        "            sum_positive += element\n",
        "\n",
        "print(\"Сумма положительных элементов в матрице:\", sum_positive)"
      ]
    },
    {
      "cell_type": "code",
      "source": [
        "# Задание 5\n",
        "# Дан список. Найти самую продолжительную возрастающую последовательность его элементов\n",
        "# (в упрощенном варианте - выдать только длину этой последовательности)\n",
        "\n",
        "l= [1,0,5,3,2,3,4,5,6,12,1,2,3,5,6,3,12,18,20]\n",
        "\n",
        "# Инициализируем переменные для текущей и максимальной длины последовательности\n",
        "current_length = 1\n",
        "max_length = 1\n",
        "\n",
        "# Проходим по списку, начиная со второго элемента\n",
        "for i in range(1, len(l)):\n",
        "    # Проверяем, является ли текущий элемент больше предыдущего\n",
        "    if l[i] > l[i - 1]:\n",
        "        # Если да, увеличиваем текущую длину\n",
        "        current_length += 1\n",
        "    else:\n",
        "        # Если нет, обновляем максимальную длину, если текущая длина больше\n",
        "        max_length = max(max_length, current_length)\n",
        "        # Сбрасываем текущую длину\n",
        "        current_length = 1\n",
        "\n",
        "# Обновляем максимальную длину в конце, так как последовательность может заканчиваться в конце списка\n",
        "max_length = max(max_length, current_length)\n",
        "\n",
        "print(\"Самая продолжительная возрастающая последовательность:\", max_length)"
      ],
      "metadata": {
        "colab": {
          "base_uri": "https://localhost:8080/"
        },
        "id": "0iC8qcF7WPOt",
        "outputId": "eb9f321d-ea44-4b21-deab-f1dc665c5ab9"
      },
      "execution_count": 2,
      "outputs": [
        {
          "output_type": "stream",
          "name": "stdout",
          "text": [
            "Самая продолжительная возрастающая последовательность: 6\n"
          ]
        }
      ]
    },
    {
      "cell_type": "code",
      "source": [
        "# Задание 6\n",
        "# дан список кортежей, представлющих координаты точек маршрута. Найти длину маршрута\n",
        "# формула расстояния между двумя точками: ((x2-x1)**2 + (y2-y1)**2)**0.5\n",
        "\n",
        "route = [(1,0), (2,5), (4,7), (3,9)]\n",
        "\n",
        "import math\n",
        "\n",
        "# Инициализация переменной для суммы длин\n",
        "total_distance = 0\n",
        "\n",
        "# Проходим по координатам точек в маршруте\n",
        "for i in range(1, len(route)):\n",
        "    x1, y1 = route[i - 1]\n",
        "    x2, y2 = route[i]\n",
        "\n",
        "    # Вычисляем расстояние между двумя точками и добавляем его к сумме\n",
        "    distance = math.sqrt((x2 - x1)**2 + (y2 - y1)**2)\n",
        "    total_distance += distance\n",
        "\n",
        "print(\"Длина маршрута:\", total_distance)"
      ],
      "metadata": {
        "colab": {
          "base_uri": "https://localhost:8080/"
        },
        "id": "jO6JKi0dWlj6",
        "outputId": "4d32dabe-0797-4ce8-9841-16a24653c59a"
      },
      "execution_count": 3,
      "outputs": [
        {
          "output_type": "stream",
          "name": "stdout",
          "text": [
            "Длина маршрута: 10.163514615838764\n"
          ]
        }
      ]
    },
    {
      "cell_type": "code",
      "source": [
        "# Задание 7\n",
        "# ввести строку\n",
        "# вывести ее \"лесенкой\"\n",
        "# п\n",
        "#  р\n",
        "#   и\n",
        "#    в\n",
        "#     е\n",
        "#      т\n",
        "\n",
        "# Вводим строку\n",
        "input_string = input(\"Введите строку: \")\n",
        "\n",
        "# Выводим строку \"лесенкой\"\n",
        "for i in range(len(input_string)):\n",
        "    # Добавляем пробелы перед символом в зависимости от его позиции\n",
        "    print(\" \" * i + input_string[i])\n"
      ],
      "metadata": {
        "colab": {
          "base_uri": "https://localhost:8080/"
        },
        "id": "jJEgeVcNXBjQ",
        "outputId": "e97f458c-df0b-49b9-b6f2-cae1bf03a6ed"
      },
      "execution_count": 4,
      "outputs": [
        {
          "output_type": "stream",
          "name": "stdout",
          "text": [
            "Введите строку: Инструмент\n",
            "И\n",
            " н\n",
            "  с\n",
            "   т\n",
            "    р\n",
            "     у\n",
            "      м\n",
            "       е\n",
            "        н\n",
            "         т\n"
          ]
        }
      ]
    },
    {
      "cell_type": "code",
      "source": [
        "# Задание 8\n",
        "# Ввести сумму денег\n",
        "# \"разменять\" ее российскими монетами (1,2,5,10)\n",
        "\n",
        "# Вводим сумму денег\n",
        "amount = int(input(\"Введите сумму денег для размена: \"))\n",
        "\n",
        "# Инициализируем переменные для монет разного номинала\n",
        "coins_10 = amount // 10\n",
        "amount %= 10\n",
        "\n",
        "coins_5 = amount // 5\n",
        "amount %= 5\n",
        "\n",
        "coins_2 = amount // 2\n",
        "amount %= 2\n",
        "\n",
        "coins_1 = amount\n",
        "\n",
        "# Выводим результат\n",
        "print(f\"Монеты по 10 рублей: {coins_10} шт.\")\n",
        "print(f\"Монеты по 5 рублей: {coins_5} шт.\")\n",
        "print(f\"Монеты по 2 рубля: {coins_2} шт.\")\n",
        "print(f\"Монеты по 1 рублю: {coins_1} шт.\")\n"
      ],
      "metadata": {
        "colab": {
          "base_uri": "https://localhost:8080/"
        },
        "id": "Hl4uOOwMXETD",
        "outputId": "438c2b0e-6567-4008-fede-80477e4236b5"
      },
      "execution_count": 5,
      "outputs": [
        {
          "output_type": "stream",
          "name": "stdout",
          "text": [
            "Введите сумму денег для размена: 1024\n",
            "Монеты по 10 рублей: 102 шт.\n",
            "Монеты по 5 рублей: 0 шт.\n",
            "Монеты по 2 рубля: 2 шт.\n",
            "Монеты по 1 рублю: 0 шт.\n"
          ]
        }
      ]
    }
  ]
}