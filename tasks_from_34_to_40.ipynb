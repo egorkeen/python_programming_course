{
  "nbformat": 4,
  "nbformat_minor": 0,
  "metadata": {
    "colab": {
      "provenance": []
    },
    "kernelspec": {
      "name": "python3",
      "display_name": "Python 3"
    },
    "language_info": {
      "name": "python"
    }
  },
  "cells": [
    {
      "cell_type": "code",
      "execution_count": 3,
      "metadata": {
        "colab": {
          "base_uri": "https://localhost:8080/"
        },
        "id": "-VBi4yzCiiAC",
        "outputId": "2ff821d7-8994-4a2d-bc0c-11f19c2d1b5f"
      },
      "outputs": [
        {
          "output_type": "stream",
          "name": "stdout",
          "text": [
            "0.08021\n",
            "0.6283\n",
            "0.90191\n"
          ]
        }
      ],
      "source": [
        "# 34\n",
        "\n",
        "# Разработать генератор ПСЧ, работающий по формуле\n",
        "# seed = (seed * 73129 + 95121) % 100000\n",
        "# начальное значение задается при создании генератора\n",
        "# генератор должен порождать значения от 0 до 1\n",
        "\n",
        "# первые 3 числа\n",
        "# 0.08021\n",
        "#0.6283\n",
        "#0.90191\n",
        "\n",
        "# тема - генераторы\n",
        "\n",
        "class RandomGenerator:\n",
        "    def __init__(self, seed):\n",
        "        self.seed = seed\n",
        "\n",
        "    def __iter__(self):\n",
        "        return self\n",
        "\n",
        "    def __next__(self):\n",
        "        self.seed = (self.seed * 73129 + 95121) % 100000\n",
        "        return self.seed / 100000\n",
        "\n",
        "# Создание экземпляра генератора\n",
        "rnd_gen = RandomGenerator(100)\n",
        "\n",
        "# Создание итератора\n",
        "rnd_iter = iter(rnd_gen)\n",
        "\n",
        "# Получение первых 3 чисел\n",
        "for _ in range(3):\n",
        "    print(next(rnd_iter))\n"
      ]
    },
    {
      "cell_type": "code",
      "source": [
        "# 35)\n",
        "#Разработать генератор, который будет выдавать карты из колоды. Карты не возращаются, когда колода исчерпывается, генератор заканчивает работу\n",
        "\n",
        "\n",
        "# тема - генераторы\n",
        "\n",
        "def card_generator():\n",
        "    suits = ['Черви', 'Бубны', 'Крести', 'Пики']\n",
        "    ranks = ['2', '3', '4', '5', '6', '7', '8', '9', '10', 'Валет', 'Дама', 'Король', 'Туз']\n",
        "\n",
        "    for suit in suits:\n",
        "        for rank in ranks:\n",
        "            yield f'{rank} {suit}'\n",
        "\n",
        "# Создание генератора карт\n",
        "deck = card_generator()\n",
        "\n",
        "# Получение карт из колоды\n",
        "for _ in range(52):\n",
        "    print(next(deck))\n"
      ],
      "metadata": {
        "colab": {
          "base_uri": "https://localhost:8080/"
        },
        "id": "Tv0auvHqjFDp",
        "outputId": "f42c130e-1d4f-4bc1-e558-e43b8f3c8df5"
      },
      "execution_count": 5,
      "outputs": [
        {
          "output_type": "stream",
          "name": "stdout",
          "text": [
            "2 Черви\n",
            "3 Черви\n",
            "4 Черви\n",
            "5 Черви\n",
            "6 Черви\n",
            "7 Черви\n",
            "8 Черви\n",
            "9 Черви\n",
            "10 Черви\n",
            "Валет Черви\n",
            "Дама Черви\n",
            "Король Черви\n",
            "Туз Черви\n",
            "2 Бубны\n",
            "3 Бубны\n",
            "4 Бубны\n",
            "5 Бубны\n",
            "6 Бубны\n",
            "7 Бубны\n",
            "8 Бубны\n",
            "9 Бубны\n",
            "10 Бубны\n",
            "Валет Бубны\n",
            "Дама Бубны\n",
            "Король Бубны\n",
            "Туз Бубны\n",
            "2 Крести\n",
            "3 Крести\n",
            "4 Крести\n",
            "5 Крести\n",
            "6 Крести\n",
            "7 Крести\n",
            "8 Крести\n",
            "9 Крести\n",
            "10 Крести\n",
            "Валет Крести\n",
            "Дама Крести\n",
            "Король Крести\n",
            "Туз Крести\n",
            "2 Пики\n",
            "3 Пики\n",
            "4 Пики\n",
            "5 Пики\n",
            "6 Пики\n",
            "7 Пики\n",
            "8 Пики\n",
            "9 Пики\n",
            "10 Пики\n",
            "Валет Пики\n",
            "Дама Пики\n",
            "Король Пики\n",
            "Туз Пики\n"
          ]
        }
      ]
    },
    {
      "cell_type": "code",
      "source": [
        "# 36) Разработать семейство классов для представления геометрических фигур\n",
        "# реализовать несколко наследников для круга, прямоугольника и др.\n",
        "# необходимо хранить положение фигуры\n",
        "# реализовать методы для изменения размера в n раз, перемещения на заданное расстояние по x и y,\n",
        "# выдачи площади фигуры\n",
        "\n",
        "import math\n",
        "\n",
        "class Shape:\n",
        "    def __init__(self, x, y):\n",
        "        self.x = x\n",
        "        self.y = y\n",
        "\n",
        "    def resize(self, factor):\n",
        "        pass\n",
        "\n",
        "    def move(self, dx, dy):\n",
        "        self.x += dx\n",
        "        self.y += dy\n",
        "\n",
        "    def area(self):\n",
        "        pass\n",
        "\n",
        "\n",
        "class Circle(Shape):\n",
        "    def __init__(self, x, y, radius):\n",
        "        super().__init__(x, y)\n",
        "        self.radius = radius\n",
        "\n",
        "    def resize(self, factor):\n",
        "        self.radius *= factor\n",
        "\n",
        "    def area(self):\n",
        "        return math.pi * self.radius ** 2\n",
        "\n",
        "\n",
        "class Rectangle(Shape):\n",
        "    def __init__(self, x, y, width, height):\n",
        "        super().__init__(x, y)\n",
        "        self.width = width\n",
        "        self.height = height\n",
        "\n",
        "    def resize(self, factor):\n",
        "        self.width *= factor\n",
        "        self.height *= factor\n",
        "\n",
        "    def area(self):\n",
        "        return self.width * self.height\n",
        "\n",
        "\n",
        "# Пример использования\n",
        "circle = Circle(0, 0, 5)\n",
        "rectangle = Rectangle(0, 0, 3, 4)\n",
        "\n",
        "print(circle.area())  # Выводит площадь круга\n",
        "print(rectangle.area())  # Выводит площадь прямоугольника\n",
        "\n",
        "circle.resize(2)\n",
        "rectangle.move(1, 2)\n",
        "\n",
        "print(circle.area())  # Выводит измененную площадь круга после изменения размера\n",
        "print(rectangle.area())  # Выводит площадь прямоугольника после перемещения\n"
      ],
      "metadata": {
        "colab": {
          "base_uri": "https://localhost:8080/"
        },
        "id": "Sk4gHpQEjhy9",
        "outputId": "3d66ea91-e6dd-445f-c52a-248242b33930"
      },
      "execution_count": 6,
      "outputs": [
        {
          "output_type": "stream",
          "name": "stdout",
          "text": [
            "78.53981633974483\n",
            "12\n",
            "314.1592653589793\n",
            "12\n"
          ]
        }
      ]
    },
    {
      "cell_type": "code",
      "source": [
        "# 37)\n",
        "# Реализовать наследника класса list для типизированного списка,\n",
        "# который сможет хранить только значения определенного типа, передавамого при создании\n",
        "# при попытке добавления значений другого типа возникает ошибка TypeError\n",
        "\n",
        "# l = TypedList(type=str)\n",
        "# l.append('привет')\n",
        "# l.append(8)   Ошибка!!!\n",
        "\n",
        "class TypedList(list):\n",
        "    def __init__(self, type):\n",
        "        self.type = type\n",
        "\n",
        "    def append(self, value):\n",
        "        if not isinstance(value, self.type):\n",
        "            raise TypeError(f\"Значение должно быть типа {self.type.__name__}\")\n",
        "        super().append(value)\n",
        "\n",
        "# Пример использования\n",
        "typed_list = TypedList(type=str)\n",
        "typed_list.append('Привет')\n",
        "\n",
        "try:\n",
        "    typed_list.append(8)  # Здесь возникнет ошибка TypeError\n",
        "except TypeError as e:\n",
        "    print(f\"Ошибка: {e}\")\n",
        "\n",
        "print(typed_list)\n"
      ],
      "metadata": {
        "colab": {
          "base_uri": "https://localhost:8080/"
        },
        "id": "fTxGYN_jj6j1",
        "outputId": "3f4c9dc8-0cb0-48cb-fdca-303f20ee9999"
      },
      "execution_count": 8,
      "outputs": [
        {
          "output_type": "stream",
          "name": "stdout",
          "text": [
            "Ошибка: Значение должно быть типа str\n",
            "['Привет']\n"
          ]
        }
      ]
    },
    {
      "cell_type": "code",
      "source": [
        "#38)\n",
        "# реализовать класс MyDefaultDict на основе словаря\n",
        "# при обращении к несуществующему элементу\n",
        "# он для соответсвующего ключа создает элемент со значением заданным при создании словаря\n",
        "# если  такого значения не задано - то 0\n",
        "\n",
        "# d = MyDefaultDict({},default = '_')\n",
        "# d['Игорь']   -> _\n",
        "\n",
        "class MyDefaultDict(dict):\n",
        "    def __init__(self, default_value='_'):\n",
        "        self.default_value = default_value\n",
        "\n",
        "    def __getitem__(self, key):\n",
        "        return self.get(key, self.default_value)\n",
        "\n",
        "# Пример использования\n",
        "d = MyDefaultDict(default_value='_')\n",
        "print(d['Игорь'])  # Выводит '_'\n"
      ],
      "metadata": {
        "colab": {
          "base_uri": "https://localhost:8080/"
        },
        "id": "PCfYhGKMkRP0",
        "outputId": "8f167607-78ac-4340-ad3d-c63ef718fdc0"
      },
      "execution_count": 9,
      "outputs": [
        {
          "output_type": "stream",
          "name": "stdout",
          "text": [
            "_\n"
          ]
        }
      ]
    },
    {
      "cell_type": "code",
      "source": [
        "# 39) Разработать класс Node и класс LinkedList для представления односвязного (цепного) списка\n",
        "# в узлах должно хранится целое число\n",
        "# необходимый функционал:\n",
        "# - расчет суммы\n",
        "# - выдача длины списка\n",
        "# - выдача значений по  индексу\n",
        "# - удаление заданного элемента\n",
        "# - добавление элемента в конец списка\n",
        "# - вставка элемента в заданную позицию списка\n",
        "# - перебор списка в цикле for\n",
        "\n",
        "class Node:\n",
        "    def __init__(self, data=None):\n",
        "        self.data = data\n",
        "        self.next_node = None\n",
        "\n",
        "\n",
        "class LinkedList:\n",
        "    def __init__(self):\n",
        "        self.head = None\n",
        "\n",
        "    def append(self, data):\n",
        "        new_node = Node(data)\n",
        "        if not self.head:\n",
        "            self.head = new_node\n",
        "        else:\n",
        "            current = self.head\n",
        "            while current.next_node:\n",
        "                current = current.next_node\n",
        "            current.next_node = new_node\n",
        "\n",
        "    def insert(self, data, position):\n",
        "        new_node = Node(data)\n",
        "        if position == 0:\n",
        "            new_node.next_node = self.head\n",
        "            self.head = new_node\n",
        "        else:\n",
        "            current = self.head\n",
        "            for _ in range(position - 1):\n",
        "                if current:\n",
        "                    current = current.next_node\n",
        "                else:\n",
        "                    raise IndexError(\"Индекс вне диапазона\")\n",
        "            if current:\n",
        "                new_node.next_node = current.next_node\n",
        "                current.next_node = new_node\n",
        "            else:\n",
        "                raise IndexError(\"Индекс вне диапазона\")\n",
        "\n",
        "    def delete(self, data):\n",
        "        current = self.head\n",
        "        if current and current.data == data:\n",
        "            self.head = current.next_node\n",
        "            return\n",
        "        while current and current.next_node:\n",
        "            if current.next_node.data == data:\n",
        "                current.next_node = current.next_node.next_node\n",
        "                return\n",
        "            current = current.next_node\n",
        "        raise ValueError(f\"{data} не найдено в списке\")\n",
        "\n",
        "    def __len__(self):\n",
        "        count = 0\n",
        "        current = self.head\n",
        "        while current:\n",
        "            count += 1\n",
        "            current = current.next_node\n",
        "        return count\n",
        "\n",
        "    def __getitem__(self, index):\n",
        "        if 0 <= index < len(self):\n",
        "            current = self.head\n",
        "            for _ in range(index):\n",
        "                current = current.next_node\n",
        "            return current.data\n",
        "        else:\n",
        "            raise IndexError(\"Индекс вне диапазона\")\n",
        "\n",
        "    def __iter__(self):\n",
        "        current = self.head\n",
        "        while current:\n",
        "            yield current.data\n",
        "            current = current.next_node\n",
        "\n",
        "    def sum(self):\n",
        "        result = 0\n",
        "        current = self.head\n",
        "        while current:\n",
        "            result += current.data\n",
        "            current = current.next_node\n",
        "        return result\n",
        "\n",
        "# Пример использования\n",
        "linked_list = LinkedList()\n",
        "linked_list.append(1)\n",
        "linked_list.append(2)\n",
        "linked_list.append(3)\n",
        "\n",
        "print(\"Длина: \", len(linked_list))\n",
        "print(\"Значения: \", [value for value in linked_list])\n",
        "print(\"Сумма: \", linked_list.sum())\n",
        "\n",
        "linked_list.insert(4, 1)\n",
        "print(\"Значения после вставки: \", [value for value in linked_list])\n",
        "\n",
        "linked_list.delete(2)\n",
        "print(\"Значения после удаления: \", [value for value in linked_list])\n"
      ],
      "metadata": {
        "colab": {
          "base_uri": "https://localhost:8080/"
        },
        "id": "jVqyJIS9kclg",
        "outputId": "da3edfe7-11c0-4a49-d863-8fcffefa4b84"
      },
      "execution_count": 10,
      "outputs": [
        {
          "output_type": "stream",
          "name": "stdout",
          "text": [
            "Длина:  3\n",
            "Значения:  [1, 2, 3]\n",
            "Сумма:  6\n",
            "Значения после вставки:  [1, 4, 2, 3]\n",
            "Значения после удаления:  [1, 4, 3]\n"
          ]
        }
      ]
    },
    {
      "cell_type": "code",
      "source": [
        "# 40) Разработать класс Person, его наследника класс Employee\n",
        "# добавить класс Employee миксин TagMixin\n",
        "# метод tag() миксина должен формирвоать тэг на основе строкового представления\n",
        "# 'Иванов Иван Иванович' -> '@ИВАНОВИВАНИВАНОВИЧ'\n",
        "\n",
        "class TagMixin:\n",
        "    def tag(self):\n",
        "        return '@' + self.__str__().upper().replace(' ', '')\n",
        "\n",
        "\n",
        "class Person:\n",
        "    def __init__(self, first_name, last_name, middle_name):\n",
        "        self.first_name = first_name\n",
        "        self.last_name = last_name\n",
        "        self.middle_name = middle_name\n",
        "\n",
        "    def __str__(self):\n",
        "        return f'{self.last_name} {self.first_name} {self.middle_name}'\n",
        "\n",
        "\n",
        "class Employee(Person, TagMixin):\n",
        "    def __init__(self, first_name, last_name, middle_name, position):\n",
        "        super().__init__(first_name, last_name, middle_name)\n",
        "        self.position = position\n",
        "\n",
        "\n",
        "# Пример использования\n",
        "employee = Employee('Иван', 'Иванов', 'Иванович', 'Разработчик')\n",
        "print(employee.tag())  # Выводит '@ИВАНОВИВАНИВАНОВИЧ'\n"
      ],
      "metadata": {
        "colab": {
          "base_uri": "https://localhost:8080/"
        },
        "id": "NHHJdOF_k7cb",
        "outputId": "78eccbfc-b887-4db1-8c48-dac62ced0aa6"
      },
      "execution_count": 11,
      "outputs": [
        {
          "output_type": "stream",
          "name": "stdout",
          "text": [
            "@ИВАНОВИВАНИВАНОВИЧ\n"
          ]
        }
      ]
    }
  ]
}